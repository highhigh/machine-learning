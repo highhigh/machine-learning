{
 "cells": [
  {
   "cell_type": "markdown",
   "metadata": {},
   "source": [
    "# Capstone Proposal -- Corporación Favorita Grocery Sales Forecasting"
   ]
  },
  {
   "cell_type": "markdown",
   "metadata": {},
   "source": [
    "X. Gao  \n",
    "11/04/2017"
   ]
  },
  {
   "cell_type": "markdown",
   "metadata": {},
   "source": [
    "## Domain Background"
   ]
  },
  {
   "cell_type": "markdown",
   "metadata": {},
   "source": [
    "This project is a Kaggle challenge launched on Oct. 20, 2017. Here is the website of the competition: https://www.kaggle.com/c/favorita-grocery-sales-forecasting.   \n",
    "\n",
    "Grocery sales forecasting is critical to grocery detailers, as they may get stuck with perishable goods if overstocked, or lose custormers if understocked. Corporación Favorita, a large Ecuadorian-based grocery retailer, owns 54 stores in different cities/regions in Ecuador. It has this challenge on Kaggle in order to have a better prediction of  product sales."
   ]
  },
  {
   "cell_type": "markdown",
   "metadata": {},
   "source": [
    "## Problem Statement"
   ]
  },
  {
   "cell_type": "markdown",
   "metadata": {},
   "source": [
    "The goal of this challenge is to forecast product sales of a specific item in a specific store for some given dates. In this project, historical datasets are provided to tackle this problem: sale records from Jan.1 2013 to Aug.16 2017, along with some other historical data, such as oil price, transaction, etc.  \n",
    "Based on historical sales records and related factors, supervised machine learning method can be employed to predict product sales."
   ]
  },
  {
   "cell_type": "markdown",
   "metadata": {},
   "source": [
    "## Datasets and Inputs"
   ]
  },
  {
   "cell_type": "markdown",
   "metadata": {},
   "source": [
    "The dataset(s) and/or input(s) to be used in the project are thoroughly described. Information such as how the dataset or input is (was) obtained, and the characteristics of the dataset or input, should be included. It should be clear how the dataset(s) or input(s) will be used in the project and whether their use is appropriate given the context of the problem."
   ]
  },
  {
   "cell_type": "markdown",
   "metadata": {},
   "source": [
    "Datasets are provided by Corporación Favorita: https://www.kaggle.com/c/favorita-grocery-sales-forecasting/data , which include: \n",
    "1. train.csv\n",
    "2. holidays_events.csv\n",
    "3. items.csv\n",
    "4. oil.csv\n",
    "5. stores.csv\n",
    "6. transactions.csv\n",
    "7. test.csv  \n",
    "8. sample_submission.csv\n",
    "\n",
    "I explored each data file from these 4 aspects:\n",
    "1. A peek of sample items ( display(df.head(5)) or display(df.tail(5)))\n",
    "2. A summary of each data file (df.describe())\n",
    "3. Check if there is missing data (df.isnull().values.any())\n",
    "4. The number of unique values for each variable (display(df['column_name'].unique()))  \n",
    "\n",
    "Details are here:\n",
    "https://github.com/highhigh/kaggle/blob/master/Favorita_Grocery_Sales_Forecasting/grocery_sales_forecasting_data.ipynb \n",
    "\n",
    "Here oil price and transaction data will be merged with train data according to date. I'm still thing about how to use holiday_envents, items, and stores data, or even don't use them at all."
   ]
  },
  {
   "cell_type": "markdown",
   "metadata": {},
   "source": [
    "## Solution Statement"
   ]
  },
  {
   "cell_type": "markdown",
   "metadata": {},
   "source": [
    "Student clearly describes a solution to the problem. The solution is applicable to the project domain and appropriate for the dataset(s) or input(s) given. Additionally, the solution is quantifiable, measurable, and replicable."
   ]
  },
  {
   "cell_type": "markdown",
   "metadata": {},
   "source": [
    "There are many factors affecting grocery sales, such as holiday_events and oil prices mentioned above.  \n",
    "The training dataset is large: 125497040 items across 4 years and 8 months. Here the challege comes: How to use the data efficiently?  \n",
    "A suprevised regression model can be used to model grocery sale. "
   ]
  },
  {
   "cell_type": "markdown",
   "metadata": {},
   "source": [
    "## Benchmark Model"
   ]
  },
  {
   "cell_type": "markdown",
   "metadata": {},
   "source": [
    "A naive model is to predict unit_sale based on historical values. This non-parametric model is an unweighted average of the historical values of the same item in the same store from the same date of previous 4 years. Unit_sales of items that can not be found in history record are filled with 0.  \n",
    "Evaluation from Kaggle website shows prediction from this method scors 0.908 (https://www.kaggle.com/c/favorita-grocery-sales-forecasting/submissions?sortBy=date&group=all&page=1)\n"
   ]
  },
  {
   "cell_type": "markdown",
   "metadata": {},
   "source": [
    "## Evaluation metrics"
   ]
  },
  {
   "cell_type": "markdown",
   "metadata": {},
   "source": [
    "Evaluation metric for the challenge is provided here https://www.kaggle.com/c/favorita-grocery-sales-forecasting#evaluation.\n",
    "\n",
    "To be specific, the prediction is evalueated on the Normalized Weighted Root Mean Squared Logarithmic Error (NERMSLE):  \n",
    "$\\sqrt{\\frac{\\sum_{i=1}^{n}w_{i}(ln(\\hat{y}_{i}+1)-ln(y_{i}+1))^2}{\\sum_{i=1}^{n}w_{i}}}$,  \n",
    "where for row $i$, $\\hat{y}_i$ is thepredicted unit_sales of an item and $y_{i}$ is the actual unit_sales; $n$ is the total number of rows in the test set. $w_{i}$, the weights is given based on if an item is perishable or not: Perishable items have a weight of 1.25 and all other items have weights of 1.00.\n",
    "\n",
    "This metric is able to avoid penalizing large differences when both the predicted and true numbers are large and it works well to predict values across a large range of orders of magnitudes."
   ]
  }
 ],
 "metadata": {
  "kernelspec": {
   "display_name": "Python 3",
   "language": "python",
   "name": "python3"
  },
  "language_info": {
   "codemirror_mode": {
    "name": "ipython",
    "version": 3
   },
   "file_extension": ".py",
   "mimetype": "text/x-python",
   "name": "python",
   "nbconvert_exporter": "python",
   "pygments_lexer": "ipython3",
   "version": "3.6.1"
  }
 },
 "nbformat": 4,
 "nbformat_minor": 2
}
