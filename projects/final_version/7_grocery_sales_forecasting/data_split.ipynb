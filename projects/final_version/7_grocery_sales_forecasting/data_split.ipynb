{
 "cells": [
  {
   "cell_type": "markdown",
   "metadata": {},
   "source": [
    "# Data Split\n",
    "The training data is huge: 125497040 items across 4 years and 8 months. Because each geometrially away from each other, and FBProphet shows transactions of each store have different patterns, so I firstly split data to different stores (54 stores in total), and train model for each store.  \n",
    "After splitting data into each stores, data is still large to train machine learning model. Because grocery sales data is similar to weather data -- the closer date the data is to the date to be predicted, the more important it is, I train model with most recent 2 months. Meanwhile, trend and seasonality of transactions are captured with FBProphet and used as a feature."
   ]
  },
  {
   "cell_type": "code",
   "execution_count": null,
   "metadata": {},
   "outputs": [],
   "source": [
    "# Import libraries necessary for this project\n",
    "import os.path\n",
    "import pickle\n",
    "import numpy as np\n",
    "import pandas as pd\n",
    "from sklearn.model_selection import ShuffleSplit\n",
    "from IPython.display import display\n",
    "import matplotlib.pyplot as plt\n",
    "from datetime import timedelta\n",
    "\n",
    "# Pretty display for notebooks\n",
    "%matplotlib inline\n",
    "\n",
    "\n",
    "def loaddata(filename, nrows=None):\n",
    "    types = {'id': 'int32', 'item_nbr': 'int32', 'store_nbr': 'int8', 'unit_sales': 'float32', 'onpromotion': bool,}\n",
    "    data = pd.read_csv(filename, parse_dates=['date'], dtype=types, infer_datetime_format=True)\n",
    "    for store in range(1, 55):\n",
    "        output_name = 'input_each_store/' + filename[6:-4] + '_store_' + str(store) + '.csv'\n",
    "        mask = ((data['store_nbr'] == store) & (data['date']>='2017-06-01'))\n",
    "        data_per_store = data.loc[mask]\n",
    "        print(\"Store {} has {} records.\".format(store, data_per_store.shape[0]))\n",
    "        data_per_store.to_csv(output_name, index=False)\n",
    "        display(data_per_store.head(5))\n",
    "    return data"
   ]
  },
  {
   "cell_type": "code",
   "execution_count": null,
   "metadata": {},
   "outputs": [],
   "source": [
    "train_data = loaddata('input/train.csv')\n",
    "print(\"Training dataset has {} data points with {} variables each.\".format(*train_data.shape))\n",
    "\n",
    "display(train_data.head(5))"
   ]
  }
 ],
 "metadata": {
  "kernelspec": {
   "display_name": "Python 3",
   "language": "python",
   "name": "python3"
  },
  "language_info": {
   "codemirror_mode": {
    "name": "ipython",
    "version": 3
   },
   "file_extension": ".py",
   "mimetype": "text/x-python",
   "name": "python",
   "nbconvert_exporter": "python",
   "pygments_lexer": "ipython3",
   "version": "3.6.3"
  },
  "latex_envs": {
   "LaTeX_envs_menu_present": true,
   "autocomplete": true,
   "bibliofile": "biblio.bib",
   "cite_by": "apalike",
   "current_citInitial": 1,
   "eqLabelWithNumbers": true,
   "eqNumInitial": 1,
   "hotkeys": {
    "equation": "Ctrl-E",
    "itemize": "Ctrl-I"
   },
   "labels_anchors": false,
   "latex_user_defs": false,
   "report_style_numbering": false,
   "user_envs_cfg": false
  },
  "toc": {
   "nav_menu": {},
   "number_sections": true,
   "sideBar": true,
   "skip_h1_title": false,
   "toc_cell": false,
   "toc_position": {},
   "toc_section_display": "block",
   "toc_window_display": false
  }
 },
 "nbformat": 4,
 "nbformat_minor": 2
}
